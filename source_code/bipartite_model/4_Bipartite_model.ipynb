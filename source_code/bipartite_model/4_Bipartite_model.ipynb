{
 "cells": [
  {
   "cell_type": "markdown",
   "id": "b3bceb8f",
   "metadata": {
    "pycharm": {
     "name": "#%% md\n"
    }
   },
   "source": [
    "#### DLS Project - Recommendation System using GNN\n",
    "\n",
    "1. Bipartite Model\n",
    "2. Sample Script to run and test on samll sample size\n",
    "3. The Link_Predicition_Model.py file is executed on HPC System with a larger sample"
   ]
  },
  {
   "cell_type": "code",
   "execution_count": 25,
   "id": "76b2b68b",
   "metadata": {
    "pycharm": {
     "name": "#%%\n"
    }
   },
   "outputs": [],
   "source": [
    "import pandas as pd\n",
    "import numpy as np\n",
    "import networkx as nx\n",
    "from networkx.algorithms import bipartite\n",
    "from sentence_transformers import SentenceTransformer\n",
    "from numpy import inf\n",
    "import random\n",
    "from torch import Tensor\n",
    "import recmetrics\n",
    "from collections import defaultdict\n",
    "from termcolor import colored\n",
    "import seaborn as sns\n",
    "import os\n",
    "import matplotlib"
   ]
  },
  {
   "cell_type": "code",
   "execution_count": 26,
   "id": "5b36eca8",
   "metadata": {
    "pycharm": {
     "name": "#%%\n"
    }
   },
   "outputs": [],
   "source": [
    "from sklearn import preprocessing as pp\n",
    "import matplotlib.pyplot as plt\n",
    "# Pytorch\n",
    "import torch\n",
    "from torch.nn import Linear\n",
    "import torch.nn.functional as F\n",
    "# PyG\n",
    "from torch_geometric.utils import to_networkx, from_networkx\n",
    "from torch_geometric.data import Data\n",
    "import torch_geometric.transforms as T\n",
    "from torch_geometric.nn import GCNConv\n",
    "from torch_geometric.data import (InMemoryDataset, HeteroData, download_url,\n",
    "                                  extract_zip)\n",
    "from torch_geometric.nn import SAGEConv, to_hetero\n",
    "PATH_INPUT = '/N/project/APRS'\n",
    "PATH_OUTPUT = \"/N/project/APRS/model_link_pred_results/iter1\""
   ]
  },
  {
   "cell_type": "code",
   "execution_count": 27,
   "id": "06a84306",
   "metadata": {
    "pycharm": {
     "name": "#%%\n"
    }
   },
   "outputs": [
    {
     "name": "stdout",
     "output_type": "stream",
     "text": [
      "length of original dataset : 9823656\n"
     ]
    }
   ],
   "source": [
    "data_df = pd.read_pickle(os.path.join(PATH_INPUT,'2_mergedData_final.pkl'))\n",
    "print(f\"length of original dataset : {len(data_df)}\")"
   ]
  },
  {
   "cell_type": "code",
   "execution_count": 28,
   "id": "02f23d05",
   "metadata": {
    "pycharm": {
     "name": "#%%\n"
    }
   },
   "outputs": [],
   "source": [
    "'Select random users'\n",
    "user_list = data_df['reviewerID'].unique().tolist() #1339133\n",
    "user_list = random.choices(user_list, k=6000)  # 140000 <<<< Change this for larger sample size"
   ]
  },
  {
   "cell_type": "code",
   "execution_count": 29,
   "id": "9bdf5552",
   "metadata": {
    "pycharm": {
     "name": "#%%\n"
    }
   },
   "outputs": [],
   "source": [
    "data_df_filter = data_df[data_df['reviewerID'].isin(user_list)]"
   ]
  },
  {
   "cell_type": "code",
   "execution_count": 30,
   "id": "23327955",
   "metadata": {
    "pycharm": {
     "name": "#%%\n"
    }
   },
   "outputs": [
    {
     "name": "stdout",
     "output_type": "stream",
     "text": [
      "Number of users in transaction criteria : 5987\n"
     ]
    }
   ],
   "source": [
    "'Selecting only users who have more than 10 transactions'\n",
    "sample_users = data_df_filter.groupby('reviewerID')['asin'].count().reset_index(drop=False)\n",
    "sample_users['buy_frequency'] = sample_users['asin'].apply(lambda x: 1 if x >=10 else 0) # minimum 10 transactions\n",
    "print(f\"Number of users in transaction criteria : {len(sample_users)}\")"
   ]
  },
  {
   "cell_type": "code",
   "execution_count": 31,
   "id": "7684ba40",
   "metadata": {
    "pycharm": {
     "name": "#%%\n"
    }
   },
   "outputs": [
    {
     "name": "stdout",
     "output_type": "stream",
     "text": [
      "length of final dataset 25796\n"
     ]
    }
   ],
   "source": [
    "'Filtering the dataset for users who meet the transaction criteria'\n",
    "data_df_3_freq = data_df.merge(sample_users, on ='reviewerID', suffixes=('_left', '_right'))\n",
    "data_df_3_sample = data_df_3_freq[data_df_3_freq.buy_frequency == 1] # only with 10 or more \n",
    "data_df_3_sample = data_df_3_sample.rename(columns={'asin_left':'asin'})\n",
    "print(f\"length of final dataset {len(data_df_3_sample)}\")"
   ]
  },
  {
   "cell_type": "code",
   "execution_count": 32,
   "id": "e964638d",
   "metadata": {
    "pycharm": {
     "name": "#%%\n"
    }
   },
   "outputs": [
    {
     "data": {
      "text/plain": [
       "asin        categoryLast             \n",
       "B001MQA3DU   Genre Fiction               212\n",
       "038568231X   Mystery                      15\n",
       "0312577222   Literature &amp; Fiction     14\n",
       "0385543026   Thrillers &amp; Suspense     13\n",
       "1410472922   Humor &amp; Satire           13\n",
       "0385539436   Thrillers &amp; Suspense     11\n",
       "1503943372   Genre Fiction                10\n",
       "1683247353   Genre Fiction                10\n",
       "1910751774   Thrillers &amp; Suspense     10\n",
       "1503950778   Genre Fiction                10\n",
       "Name: reviewerID, dtype: int64"
      ]
     },
     "execution_count": 32,
     "metadata": {},
     "output_type": "execute_result"
    }
   ],
   "source": [
    "'Top books in the dataset'\n",
    "data_df_3_sample.groupby(['asin', 'categoryLast'])['reviewerID'].count().sort_values(ascending = False)[:10]"
   ]
  },
  {
   "cell_type": "code",
   "execution_count": 33,
   "id": "54189097",
   "metadata": {
    "pycharm": {
     "name": "#%%\n"
    }
   },
   "outputs": [
    {
     "name": "stderr",
     "output_type": "stream",
     "text": [
      "/N/u/abbajpai/Carbonate/.conda/envs/abhipy/lib/python3.9/site-packages/seaborn/_decorators.py:36: FutureWarning: Pass the following variable as a keyword arg: x. From version 0.12, the only valid positional argument will be `data`, and passing other arguments without an explicit keyword will result in an error or misinterpretation.\n",
      "  warnings.warn(\n",
      "/N/u/abbajpai/Carbonate/.local/lib/python3.9/site-packages/recmetrics/plots.py:60: FutureWarning: The frame.append method is deprecated and will be removed from pandas in a future version. Use pandas.concat instead.\n",
      "  head = head.append(tail.head(1))\n"
     ]
    },
    {
     "data": {
      "image/png": "[encoded data removed]",
      "text/plain": [
       "<Figure size 1080x504 with 1 Axes>"
      ]
     },
     "metadata": {
      "needs_background": "light"
     },
     "output_type": "display_data"
    }
   ],
   "source": [
    "'Long Tail plot to show the distribution of books'\n",
    "matplotlib.rc('xtick', labelsize=20)\n",
    "matplotlib.rc('ytick', labelsize=20)\n",
    "fig = plt.figure(figsize=(15, 7))\n",
    "recmetrics.long_tail_plot(df=data_df_3_sample, \n",
    "             item_id_column=\"asin\", \n",
    "             interaction_type=\"overall\", \n",
    "             percentage=0.5,\n",
    "             x_labels=False)\n",
    "fig.savefig(os.path.join(PATH_OUTPUT,\"Long Tail.png\"))"
   ]
  },
  {
   "cell_type": "code",
   "execution_count": 34,
   "id": "580020a1",
   "metadata": {
    "pycharm": {
     "name": "#%%\n"
    }
   },
   "outputs": [],
   "source": [
    "#delete to save memory\n",
    "del data_df, user_list, data_df_3_freq, sample_users"
   ]
  },
  {
   "cell_type": "markdown",
   "id": "936eef4d",
   "metadata": {
    "pycharm": {
     "name": "#%% md\n"
    }
   },
   "source": [
    "##### Creating Custom InMemory Hetro Dataset as required by PyG Models"
   ]
  },
  {
   "cell_type": "code",
   "execution_count": 35,
   "id": "b0bae9a0",
   "metadata": {
    "pycharm": {
     "name": "#%%\n"
    }
   },
   "outputs": [],
   "source": [
    "'Creating label encoders for asin and revieweID as they are alphanumeric'\n",
    "le_user = pp.LabelEncoder()\n",
    "le_item = pp.LabelEncoder()\n",
    "data_df_3_sample['user_id_idx'] = le_user.fit_transform(data_df_3_sample['reviewerID'].values)\n",
    "data_df_3_sample['item_id_idx'] = le_item.fit_transform(data_df_3_sample['asin'].values)"
   ]
  },
  {
   "cell_type": "code",
   "execution_count": 36,
   "id": "0f9fb880",
   "metadata": {
    "pycharm": {
     "name": "#%%\n"
    }
   },
   "outputs": [],
   "source": [
    "'Unique list of books and count'\n",
    "data_df_books = data_df_3_sample.groupby(['item_id_idx',\n",
    "                                          'categoryLast','asin'])['overall'].count().reset_index(drop=False)"
   ]
  },
  {
   "cell_type": "code",
   "execution_count": 37,
   "id": "cb63381e",
   "metadata": {
    "pycharm": {
     "name": "#%%\n"
    }
   },
   "outputs": [
    {
     "data": {
      "application/json": {
       "ascii": false,
       "bar_format": null,
       "colour": null,
       "elapsed": 0.021468639373779297,
       "initial": 0,
       "n": 0,
       "ncols": null,
       "nrows": null,
       "postfix": null,
       "prefix": "Batches",
       "rate": null,
       "total": 649,
       "unit": "it",
       "unit_divisor": 1000,
       "unit_scale": false
      },
      "application/vnd.jupyter.widget-view+json": {
       "model_id": "1c8a7a6e9d344c8ea02c4d7cc130c144",
       "version_major": 2,
       "version_minor": 0
      },
      "text/plain": [
       "Batches:   0%|          | 0/649 [00:00<?, ?it/s]"
      ]
     },
     "metadata": {},
     "output_type": "display_data"
    }
   ],
   "source": [
    "'Custom dataset'\n",
    "#reference - https://pytorch-geometric.readthedocs.io/en/latest/notes/create_dataset.html\n",
    "class AmazonUsers(InMemoryDataset):\n",
    "    def __init__(self, transform=None):\n",
    "        super(AmazonUsers, self).__init__('.', transform, None, None)\n",
    "        \n",
    "        data = HeteroData()\n",
    "        \n",
    "        # Book nodes\n",
    "        book_mapping = {idx: i for i, idx in enumerate(data_df_books.item_id_idx)}\n",
    "        \n",
    "        book_categories = data_df_books['categoryLast'].str.get_dummies('|').values\n",
    "        book_categories = torch.from_numpy(book_categories).to(torch.float)\n",
    "        \n",
    "        model = SentenceTransformer(\"all-MiniLM-L6-v2\")\n",
    "        with torch.no_grad():\n",
    "            emb = model.encode(data_df_books['asin'].values, show_progress_bar=True, convert_to_tensor=True).cpu()\n",
    "        \n",
    "        data['books'].x = torch.cat([emb, book_categories], dim=-1)\n",
    "        data['books'].num_nodes = len(book_mapping)\n",
    "        \n",
    "        # User nodes\n",
    "        user_mapping = {idx: i for i, idx in enumerate(data_df_3_sample['reviewerID'].unique())}\n",
    "        data['user'].num_nodes = len(user_mapping)\n",
    "        data['user'].x = torch.eye(data['user'].num_nodes)\n",
    "        \n",
    "        # Edges\n",
    "        src = [user_mapping[idx] for idx in data_df_3_sample['reviewerID']]\n",
    "        dst = [book_mapping[idx] for idx in data_df_3_sample['item_id_idx']]\n",
    "        edge_index = torch.tensor([src, dst])\n",
    "\n",
    "        rating = torch.from_numpy(data_df_3_sample['overall'].values).to(torch.long)\n",
    "        data['user', 'rates', 'books'].edge_index = edge_index\n",
    "        data['user', 'rates', 'books'].edge_label = rating\n",
    "\n",
    "        self.data, self.slices = self.collate([data])\n",
    "\n",
    "    def _download(self):\n",
    "        return\n",
    "\n",
    "    def _process(self):\n",
    "        return\n",
    "\n",
    "    def __repr__(self):\n",
    "        return '{}()'.format(self.__class__.__name__)\n",
    "    \n",
    "dataset = AmazonUsers()\n",
    "data = dataset[0]"
   ]
  },
  {
   "cell_type": "code",
   "execution_count": 38,
   "id": "19e5a29d",
   "metadata": {
    "pycharm": {
     "name": "#%%\n"
    }
   },
   "outputs": [
    {
     "data": {
      "text/plain": [
       "HeteroData(\n",
       "  \u001B[1mbooks\u001B[0m={\n",
       "    x=[20765, 813],\n",
       "    num_nodes=20765\n",
       "  },\n",
       "  \u001B[1muser\u001B[0m={\n",
       "    num_nodes=975,\n",
       "    x=[975, 975]\n",
       "  },\n",
       "  \u001B[1m(user, rates, books)\u001B[0m={\n",
       "    edge_index=[2, 25796],\n",
       "    edge_label=[25796]\n",
       "  }\n",
       ")"
      ]
     },
     "execution_count": 38,
     "metadata": {},
     "output_type": "execute_result"
    }
   ],
   "source": [
    "'Print details of nodes and edges'\n",
    "data"
   ]
  },
  {
   "cell_type": "code",
   "execution_count": 39,
   "id": "5126f88f",
   "metadata": {
    "pycharm": {
     "name": "#%%\n"
    }
   },
   "outputs": [],
   "source": [
    "'Make graph undirected'\n",
    "data = T.ToUndirected()(data)\n",
    "del data['books', 'rev_rates', 'user'].edge_label  # Remove \"reverse\" label."
   ]
  },
  {
   "cell_type": "code",
   "execution_count": 40,
   "id": "6c5fe298",
   "metadata": {
    "pycharm": {
     "name": "#%%\n"
    }
   },
   "outputs": [],
   "source": [
    "'Split into train, val and test data'\n",
    "train_data, val_data, test_data = T.RandomLinkSplit(\n",
    "    num_val=0.1,\n",
    "    num_test=0.1,\n",
    "    neg_sampling_ratio=0.0,\n",
    "    edge_types=[('user', 'rates', 'books')],\n",
    "    rev_edge_types=[('books', 'rev_rates', 'user')],\n",
    ")(data)"
   ]
  },
  {
   "cell_type": "code",
   "execution_count": 41,
   "id": "1887f15b",
   "metadata": {
    "pycharm": {
     "name": "#%%\n"
    }
   },
   "outputs": [
    {
     "data": {
      "text/plain": [
       "HeteroData(\n",
       "  \u001B[1mbooks\u001B[0m={\n",
       "    x=[20765, 813],\n",
       "    num_nodes=20765\n",
       "  },\n",
       "  \u001B[1muser\u001B[0m={\n",
       "    num_nodes=975,\n",
       "    x=[975, 975]\n",
       "  },\n",
       "  \u001B[1m(user, rates, books)\u001B[0m={\n",
       "    edge_index=[2, 23217],\n",
       "    edge_label=[2579],\n",
       "    edge_label_index=[2, 2579]\n",
       "  },\n",
       "  \u001B[1m(books, rev_rates, user)\u001B[0m={ edge_index=[2, 23217] }\n",
       ")"
      ]
     },
     "execution_count": 41,
     "metadata": {},
     "output_type": "execute_result"
    }
   ],
   "source": [
    "'Check test sample size'\n",
    "test_data"
   ]
  },
  {
   "cell_type": "markdown",
   "id": "105fa672",
   "metadata": {
    "pycharm": {
     "name": "#%% md\n"
    }
   },
   "source": [
    "##### Model Training"
   ]
  },
  {
   "cell_type": "code",
   "execution_count": 42,
   "id": "0a55230b",
   "metadata": {
    "pycharm": {
     "is_executing": true,
     "name": "#%%\n"
    }
   },
   "outputs": [],
   "source": [
    "'Adjustment in weight as the data is biased - see long tail graph'\n",
    "weight = torch.bincount(train_data['user', 'books'].edge_label)\n",
    "weight = weight.max() / weight\n",
    "weight[weight == -inf] = 0\n",
    "weight[weight == inf] = 0"
   ]
  },
  {
   "cell_type": "code",
   "execution_count": 43,
   "id": "8c72e030",
   "metadata": {
    "pycharm": {
     "name": "#%%\n"
    }
   },
   "outputs": [],
   "source": [
    "'Function for early stopping'\n",
    "def early_stopping(epoch, epoch_val_loss, previous_loss, count_paitence):\n",
    "    \"\"\"Function to calculate the stopping point based on validation loss score\"\"\"\n",
    "    if epoch_val_loss - previous_loss>.2:\n",
    "        count_paitence += 1\n",
    "        print(colored(f'Epoch {epoch} validation set loss is greater than epoch {epoch -1} loss.','blue'))\n",
    "        print(colored(f'Paitence Counter value: {count_paitence}', 'green'))\n",
    "        if count_paitence >= patience:\n",
    "            print(colored('Stopping early as validation score has stopped improving','magenta', attrs=['bold']))\n",
    "            return ['stop']\n",
    "    else:\n",
    "        count_paitence = 0\n",
    "    previous_loss = epoch_val_loss\n",
    "    return [previous_loss, count_paitence]"
   ]
  },
  {
   "cell_type": "code",
   "execution_count": 44,
   "id": "6a3c13b5",
   "metadata": {
    "pycharm": {
     "name": "#%%\n"
    }
   },
   "outputs": [],
   "source": [
    "'Model Architecture'\n",
    "#Reference: https://pytorch-geometric.readthedocs.io/en/latest/notes/heterogeneous.html?highlight=GNN%20Encoder\n",
    "def weighted_mse_loss(pred, target, weight=None):\n",
    "    weight = 1. if weight is None else weight[target].to(pred.dtype)\n",
    "    return (weight * (pred - target.to(pred.dtype)).pow(2)).mean()\n",
    "\n",
    "class GNNEncoder(torch.nn.Module):\n",
    "    def __init__(self, hidden_channels, out_channels):\n",
    "        super().__init__()\n",
    "        self.conv1 = SAGEConv((-1, -1), hidden_channels)\n",
    "        self.conv2 = SAGEConv((-1, -1), out_channels)\n",
    "\n",
    "    def forward(self, x, edge_index):\n",
    "        x = self.conv1(x, edge_index).relu()\n",
    "        x = self.conv2(x, edge_index)\n",
    "        return x\n",
    "\n",
    "class EdgeDecoder(torch.nn.Module):\n",
    "    def __init__(self, hidden_channels):\n",
    "        super().__init__()\n",
    "        self.lin1 = Linear(2 * hidden_channels, hidden_channels)\n",
    "        self.lin2 = Linear(hidden_channels, 1)\n",
    "\n",
    "    def forward(self, z_dict, edge_label_index):\n",
    "        row, col = edge_label_index\n",
    "        z = torch.cat([z_dict['user'][row], z_dict['books'][col]], dim=-1)\n",
    "        z = self.lin1(z).relu()\n",
    "        z = self.lin2(z)\n",
    "        return z.view(-1)\n",
    "\n",
    "\n",
    "class Model(torch.nn.Module):\n",
    "    def __init__(self, hidden_channels):\n",
    "        super().__init__()\n",
    "        self.encoder = GNNEncoder(hidden_channels, hidden_channels)\n",
    "        self.encoder = to_hetero(self.encoder, data.metadata(), aggr='sum')\n",
    "        self.decoder = EdgeDecoder(hidden_channels)\n",
    "\n",
    "    def forward(self, x_dict, edge_index_dict, edge_label_index):\n",
    "        z_dict = self.encoder(x_dict, edge_index_dict)\n",
    "        return self.decoder(z_dict, edge_label_index)\n",
    "\n",
    "model = Model(hidden_channels=32)"
   ]
  },
  {
   "cell_type": "code",
   "execution_count": 45,
   "id": "02c0555c",
   "metadata": {
    "pycharm": {
     "name": "#%%\n"
    }
   },
   "outputs": [],
   "source": [
    "with torch.no_grad():\n",
    "    model.encoder(train_data.x_dict, train_data.edge_index_dict)"
   ]
  },
  {
   "cell_type": "code",
   "execution_count": 46,
   "id": "1c59237c",
   "metadata": {
    "pycharm": {
     "name": "#%%\n"
    }
   },
   "outputs": [],
   "source": [
    "'Model Training'\n",
    "def train():\n",
    "    model.train()\n",
    "    optimizer.zero_grad()\n",
    "\n",
    "    pred = model(train_data.x_dict, train_data.edge_index_dict, train_data['user', 'books'].edge_label_index)\n",
    "    target = train_data['user', 'books'].edge_label\n",
    "    loss = weighted_mse_loss(pred, target, weight)\n",
    "    loss.backward()\n",
    "    optimizer.step()\n",
    "    return float(loss)"
   ]
  },
  {
   "cell_type": "code",
   "execution_count": 47,
   "id": "3c007c04",
   "metadata": {
    "pycharm": {
     "name": "#%%\n"
    }
   },
   "outputs": [],
   "source": [
    "@torch.no_grad()\n",
    "def test(data):\n",
    "    model.eval()\n",
    "    pred = model(data.x_dict, data.edge_index_dict, data['user', 'books'].edge_label_index)\n",
    "    pred = pred.clamp(min=0, max=5)\n",
    "    target = data['user', 'books'].edge_label.float()\n",
    "    rmse = F.mse_loss(pred, target).sqrt()\n",
    "    return float(rmse), pred"
   ]
  },
  {
   "cell_type": "code",
   "execution_count": 48,
   "id": "ed5a756f",
   "metadata": {
    "pycharm": {
     "name": "#%%\n"
    }
   },
   "outputs": [
    {
     "name": "stdout",
     "output_type": "stream",
     "text": [
      "Epoch: 000, Loss: 37.3805, Train: 4.4379 ,Val: 4.4710, Test: 4.4482\n",
      "Epoch: 001, Loss: 33.2273, Train: 4.0111 ,Val: 4.1281, Test: 4.1015\n",
      "Epoch: 002, Loss: 25.7494, Train: 3.1485 ,Val: 3.4358, Test: 3.4020\n",
      "Epoch: 003, Loss: 14.1891, Train: 1.6435 ,Val: 2.2171, Test: 2.1736\n",
      "Epoch: 004, Loss: 5.9759, Train: 1.0554 ,Val: 1.1309, Test: 1.1175\n",
      "Epoch: 005, Loss: 19.5686, Train: 0.9070 ,Val: 1.3967, Test: 1.3606\n",
      "\u001B[34mEpoch 5 validation set loss is greater than epoch 4 loss.\u001B[0m\n",
      "\u001B[32mPaitence Counter value: 1\u001B[0m\n",
      "Epoch: 006, Loss: 10.9261, Train: 1.4632 ,Val: 2.0672, Test: 2.0236\n",
      "\u001B[34mEpoch 6 validation set loss is greater than epoch 5 loss.\u001B[0m\n",
      "\u001B[32mPaitence Counter value: 2\u001B[0m\n",
      "Epoch: 007, Loss: 5.5119, Train: 2.1928 ,Val: 2.6646, Test: 2.6246\n",
      "\u001B[34mEpoch 7 validation set loss is greater than epoch 6 loss.\u001B[0m\n",
      "\u001B[32mPaitence Counter value: 3\u001B[0m\n",
      "Epoch: 008, Loss: 6.8475, Train: 2.6014 ,Val: 2.9875, Test: 2.9508\n",
      "\u001B[34mEpoch 8 validation set loss is greater than epoch 7 loss.\u001B[0m\n",
      "\u001B[32mPaitence Counter value: 4\u001B[0m\n",
      "Epoch: 009, Loss: 9.3395, Train: 2.7310 ,Val: 3.0893, Test: 3.0538\n",
      "Epoch: 010, Loss: 10.3848, Train: 2.6525 ,Val: 3.0255, Test: 2.9895\n",
      "Epoch: 011, Loss: 9.7623, Train: 2.4041 ,Val: 2.8274, Test: 2.7899\n",
      "Epoch: 012, Loss: 7.9665, Train: 2.0063 ,Val: 2.5100, Test: 2.4702\n",
      "Epoch: 013, Loss: 5.8107, Train: 1.5023 ,Val: 2.1020, Test: 2.0602\n",
      "Epoch: 014, Loss: 4.4542, Train: 1.0338 ,Val: 1.6889, Test: 1.6477\n",
      "Epoch: 015, Loss: 4.9216, Train: 0.8302 ,Val: 1.4270, Test: 1.3902\n",
      "Epoch: 016, Loss: 6.4115, Train: 0.8161 ,Val: 1.3922, Test: 1.3570\n",
      "Epoch: 017, Loss: 6.4830, Train: 0.9040 ,Val: 1.5432, Test: 1.5054\n",
      "Epoch: 018, Loss: 5.0738, Train: 1.1603 ,Val: 1.8043, Test: 1.7648\n",
      "\u001B[34mEpoch 18 validation set loss is greater than epoch 17 loss.\u001B[0m\n",
      "\u001B[32mPaitence Counter value: 1\u001B[0m\n",
      "Epoch: 019, Loss: 3.9708, Train: 1.4736 ,Val: 2.0709, Test: 2.0318\n",
      "\u001B[34mEpoch 19 validation set loss is greater than epoch 18 loss.\u001B[0m\n",
      "\u001B[32mPaitence Counter value: 2\u001B[0m\n",
      "Epoch: 020, Loss: 3.9317, Train: 1.7166 ,Val: 2.2676, Test: 2.2296\n",
      "Epoch: 021, Loss: 4.4689, Train: 1.8402 ,Val: 2.3658, Test: 2.3288\n",
      "Epoch: 022, Loss: 4.9009, Train: 1.8387 ,Val: 2.3638, Test: 2.3272\n",
      "Epoch: 023, Loss: 4.8794, Train: 1.7229 ,Val: 2.2700, Test: 2.2334\n",
      "Epoch: 024, Loss: 4.4104, Train: 1.5157 ,Val: 2.1002, Test: 2.0638\n",
      "Epoch: 025, Loss: 3.7623, Train: 1.2632 ,Val: 1.8841, Test: 1.8486\n",
      "Epoch: 026, Loss: 3.3364, Train: 1.0428 ,Val: 1.6717, Test: 1.6387\n",
      "Epoch: 027, Loss: 3.4034, Train: 0.9253 ,Val: 1.5230, Test: 1.4938\n",
      "Epoch: 028, Loss: 3.7701, Train: 0.9018 ,Val: 1.4760, Test: 1.4491\n",
      "Epoch: 029, Loss: 3.8851, Train: 0.9425 ,Val: 1.5313, Test: 1.5037\n",
      "Epoch: 030, Loss: 3.5450, Train: 1.0497 ,Val: 1.6597, Test: 1.6301\n",
      "Epoch: 031, Loss: 3.1278, Train: 1.2024 ,Val: 1.8119, Test: 1.7809\n",
      "Epoch: 032, Loss: 3.0005, Train: 1.3428 ,Val: 1.9382, Test: 1.9069\n",
      "Epoch: 033, Loss: 3.1371, Train: 1.4234 ,Val: 2.0070, Test: 1.9759\n",
      "Epoch: 034, Loss: 3.2924, Train: 1.4255 ,Val: 2.0067, Test: 1.9762\n",
      "Epoch: 035, Loss: 3.2820, Train: 1.3548 ,Val: 1.9414, Test: 1.9118\n",
      "Epoch: 036, Loss: 3.0972, Train: 1.2370 ,Val: 1.8282, Test: 1.8002\n",
      "Epoch: 037, Loss: 2.8775, Train: 1.1147 ,Val: 1.6967, Test: 1.6712\n",
      "Epoch: 038, Loss: 2.7918, Train: 1.0286 ,Val: 1.5845, Test: 1.5621\n",
      "Epoch: 039, Loss: 2.8759, Train: 0.9922 ,Val: 1.5235, Test: 1.5035\n",
      "Epoch: 040, Loss: 2.9759, Train: 0.9991 ,Val: 1.5272, Test: 1.5076\n",
      "Epoch: 041, Loss: 2.9318, Train: 1.0438 ,Val: 1.5869, Test: 1.5659\n",
      "Epoch: 042, Loss: 2.7853, Train: 1.1174 ,Val: 1.6763, Test: 1.6535\n",
      "Epoch: 043, Loss: 2.6949, Train: 1.1967 ,Val: 1.7620, Test: 1.7380\n",
      "Epoch: 044, Loss: 2.7203, Train: 1.2517 ,Val: 1.8161, Test: 1.7917\n",
      "Epoch: 045, Loss: 2.7865, Train: 1.2626 ,Val: 1.8243, Test: 1.8000\n",
      "Epoch: 046, Loss: 2.7986, Train: 1.2291 ,Val: 1.7867, Test: 1.7633\n",
      "Epoch: 047, Loss: 2.7373, Train: 1.1677 ,Val: 1.7166, Test: 1.6944\n",
      "Epoch: 048, Loss: 2.6623, Train: 1.1038 ,Val: 1.6368, Test: 1.6163\n",
      "Epoch: 049, Loss: 2.6441, Train: 1.0582 ,Val: 1.5731, Test: 1.5543\n",
      "Epoch: 050, Loss: 2.6840, Train: 1.0404 ,Val: 1.5452, Test: 1.5272\n",
      "Epoch: 051, Loss: 2.7134, Train: 1.0514 ,Val: 1.5588, Test: 1.5405\n",
      "Epoch: 052, Loss: 2.6859, Train: 1.0864 ,Val: 1.6047, Test: 1.5853\n",
      "Epoch: 053, Loss: 2.6360, Train: 1.1339 ,Val: 1.6627, Test: 1.6421\n",
      "Epoch: 054, Loss: 2.6198, Train: 1.1763 ,Val: 1.7106, Test: 1.6892\n",
      "Epoch: 055, Loss: 2.6409, Train: 1.1969 ,Val: 1.7321, Test: 1.7103\n",
      "Epoch: 056, Loss: 2.6595, Train: 1.1887 ,Val: 1.7215, Test: 1.6999\n",
      "Epoch: 057, Loss: 2.6474, Train: 1.1573 ,Val: 1.6843, Test: 1.6634\n",
      "Epoch: 058, Loss: 2.6168, Train: 1.1166 ,Val: 1.6346, Test: 1.6145\n",
      "Epoch: 059, Loss: 2.6003, Train: 1.0822 ,Val: 1.5903, Test: 1.5711\n",
      "Epoch: 060, Loss: 2.6092, Train: 1.0647 ,Val: 1.5663, Test: 1.5476\n",
      "Epoch: 061, Loss: 2.6213, Train: 1.0674 ,Val: 1.5691, Test: 1.5503\n",
      "Epoch: 062, Loss: 2.6133, Train: 1.0876 ,Val: 1.5944, Test: 1.5750\n",
      "Epoch: 063, Loss: 2.5926, Train: 1.1169 ,Val: 1.6297, Test: 1.6096\n",
      "Epoch: 064, Loss: 2.5820, Train: 1.1434 ,Val: 1.6600, Test: 1.6393\n",
      "Epoch: 065, Loss: 2.5870, Train: 1.1563 ,Val: 1.6736, Test: 1.6526\n",
      "Epoch: 066, Loss: 2.5926, Train: 1.1509 ,Val: 1.6659, Test: 1.6451\n",
      "Epoch: 067, Loss: 2.5863, Train: 1.1307 ,Val: 1.6408, Test: 1.6205\n",
      "Epoch: 068, Loss: 2.5731, Train: 1.1048 ,Val: 1.6082, Test: 1.5886\n",
      "Epoch: 069, Loss: 2.5664, Train: 1.0837 ,Val: 1.5803, Test: 1.5613\n",
      "Epoch: 070, Loss: 2.5693, Train: 1.0742 ,Val: 1.5666, Test: 1.5479\n",
      "Epoch: 071, Loss: 2.5719, Train: 1.0784 ,Val: 1.5702, Test: 1.5515\n",
      "Epoch: 072, Loss: 2.5663, Train: 1.0934 ,Val: 1.5872, Test: 1.5682\n",
      "Epoch: 073, Loss: 2.5577, Train: 1.1124 ,Val: 1.6084, Test: 1.5890\n",
      "Epoch: 074, Loss: 2.5545, Train: 1.1272 ,Val: 1.6238, Test: 1.6042\n",
      "Epoch: 075, Loss: 2.5563, Train: 1.1315 ,Val: 1.6267, Test: 1.6072\n",
      "Epoch: 076, Loss: 2.5562, Train: 1.1243 ,Val: 1.6159, Test: 1.5967\n",
      "Epoch: 077, Loss: 2.5512, Train: 1.1093 ,Val: 1.5958, Test: 1.5770\n",
      "Epoch: 078, Loss: 2.5455, Train: 1.0935 ,Val: 1.5741, Test: 1.5559\n",
      "Epoch: 079, Loss: 2.5437, Train: 1.0831 ,Val: 1.5588, Test: 1.5411\n",
      "Epoch: 080, Loss: 2.5442, Train: 1.0816 ,Val: 1.5545, Test: 1.5370\n",
      "Epoch: 081, Loss: 2.5423, Train: 1.0886 ,Val: 1.5609, Test: 1.5433\n",
      "Epoch: 082, Loss: 2.5376, Train: 1.1004 ,Val: 1.5729, Test: 1.5552\n",
      "Epoch: 083, Loss: 2.5338, Train: 1.1114 ,Val: 1.5837, Test: 1.5659\n",
      "Epoch: 084, Loss: 2.5326, Train: 1.1166 ,Val: 1.5874, Test: 1.5696\n",
      "Epoch: 085, Loss: 2.5317, Train: 1.1141 ,Val: 1.5818, Test: 1.5642\n",
      "Epoch: 086, Loss: 2.5287, Train: 1.1054 ,Val: 1.5688, Test: 1.5515\n",
      "Epoch: 087, Loss: 2.5248, Train: 1.0948 ,Val: 1.5533, Test: 1.5365\n",
      "Epoch: 088, Loss: 2.5222, Train: 1.0871 ,Val: 1.5411, Test: 1.5246\n",
      "Epoch: 089, Loss: 2.5209, Train: 1.0850 ,Val: 1.5360, Test: 1.5197\n",
      "Epoch: 090, Loss: 2.5188, Train: 1.0889 ,Val: 1.5382, Test: 1.5220\n",
      "Epoch: 091, Loss: 2.5155, Train: 1.0963 ,Val: 1.5448, Test: 1.5285\n",
      "Epoch: 092, Loss: 2.5124, Train: 1.1034 ,Val: 1.5509, Test: 1.5345\n",
      "Epoch: 093, Loss: 2.5104, Train: 1.1067 ,Val: 1.5524, Test: 1.5361\n",
      "Epoch: 094, Loss: 2.5085, Train: 1.1049 ,Val: 1.5476, Test: 1.5314\n",
      "Epoch: 095, Loss: 2.5058, Train: 1.0991 ,Val: 1.5379, Test: 1.5220\n",
      "Epoch: 096, Loss: 2.5027, Train: 1.0922 ,Val: 1.5268, Test: 1.5112\n",
      "Epoch: 097, Loss: 2.5002, Train: 1.0737 ,Val: 1.5065, Test: 1.4910\n",
      "Epoch: 098, Loss: 2.5009, Train: 1.0936 ,Val: 1.5236, Test: 1.5081\n",
      "Epoch: 099, Loss: 2.4951, Train: 1.0996 ,Val: 1.5285, Test: 1.5129\n",
      "Epoch: 100, Loss: 2.4928, Train: 1.1023 ,Val: 1.5293, Test: 1.5137\n",
      "Epoch: 101, Loss: 2.4906, Train: 1.1005 ,Val: 1.5245, Test: 1.5091\n",
      "Epoch: 102, Loss: 2.4878, Train: 1.0952 ,Val: 1.5155, Test: 1.5003\n",
      "Epoch: 103, Loss: 2.4847, Train: 1.0892 ,Val: 1.5057, Test: 1.4907\n",
      "Epoch: 104, Loss: 2.4820, Train: 1.0854 ,Val: 1.4984, Test: 1.4837\n",
      "Epoch: 105, Loss: 2.4797, Train: 1.0852 ,Val: 1.4958, Test: 1.4811\n",
      "Epoch: 106, Loss: 2.4769, Train: 1.0881 ,Val: 1.4970, Test: 1.4823\n",
      "Epoch: 107, Loss: 2.4738, Train: 1.0921 ,Val: 1.4996, Test: 1.4848\n",
      "Epoch: 108, Loss: 2.4710, Train: 1.0948 ,Val: 1.5004, Test: 1.4857\n",
      "Epoch: 109, Loss: 2.4683, Train: 1.0946 ,Val: 1.4978, Test: 1.4831\n",
      "Epoch: 110, Loss: 2.4655, Train: 1.0918 ,Val: 1.4919, Test: 1.4773\n",
      "Epoch: 111, Loss: 2.4624, Train: 1.0878 ,Val: 1.4845, Test: 1.4702\n",
      "Epoch: 112, Loss: 2.4594, Train: 1.0847 ,Val: 1.4782, Test: 1.4640\n"
     ]
    },
    {
     "name": "stdout",
     "output_type": "stream",
     "text": [
      "Epoch: 113, Loss: 2.4565, Train: 1.0837 ,Val: 1.4745, Test: 1.4604\n",
      "Epoch: 114, Loss: 2.4535, Train: 1.0847 ,Val: 1.4734, Test: 1.4593\n",
      "Epoch: 115, Loss: 2.4504, Train: 1.0867 ,Val: 1.4734, Test: 1.4594\n",
      "Epoch: 116, Loss: 2.4472, Train: 1.0882 ,Val: 1.4728, Test: 1.4588\n",
      "Epoch: 117, Loss: 2.4441, Train: 1.0881 ,Val: 1.4701, Test: 1.4562\n",
      "Epoch: 118, Loss: 2.4410, Train: 1.0864 ,Val: 1.4656, Test: 1.4518\n",
      "Epoch: 119, Loss: 2.4377, Train: 1.0840 ,Val: 1.4601, Test: 1.4465\n",
      "Epoch: 120, Loss: 2.4344, Train: 1.0821 ,Val: 1.4553, Test: 1.4417\n",
      "Epoch: 121, Loss: 2.4311, Train: 1.0814 ,Val: 1.4518, Test: 1.4384\n",
      "Epoch: 122, Loss: 2.4278, Train: 1.0816 ,Val: 1.4496, Test: 1.4362\n",
      "Epoch: 123, Loss: 2.4244, Train: 1.0821 ,Val: 1.4477, Test: 1.4344\n",
      "Epoch: 124, Loss: 2.4209, Train: 1.0823 ,Val: 1.4452, Test: 1.4320\n",
      "Epoch: 125, Loss: 2.4174, Train: 1.0817 ,Val: 1.4419, Test: 1.4288\n",
      "Epoch: 126, Loss: 2.4139, Train: 1.0807 ,Val: 1.4379, Test: 1.4249\n",
      "Epoch: 127, Loss: 2.4103, Train: 1.0795 ,Val: 1.4338, Test: 1.4209\n",
      "Epoch: 128, Loss: 2.4066, Train: 1.0785 ,Val: 1.4299, Test: 1.4171\n",
      "Epoch: 129, Loss: 2.4029, Train: 1.0778 ,Val: 1.4264, Test: 1.4137\n",
      "Epoch: 130, Loss: 2.3992, Train: 1.0774 ,Val: 1.4232, Test: 1.4105\n",
      "Epoch: 131, Loss: 2.3954, Train: 1.0771 ,Val: 1.4200, Test: 1.4075\n",
      "Epoch: 132, Loss: 2.3915, Train: 1.0767 ,Val: 1.4168, Test: 1.4043\n",
      "Epoch: 133, Loss: 2.3877, Train: 1.0761 ,Val: 1.4133, Test: 1.4008\n",
      "Epoch: 134, Loss: 2.3837, Train: 1.0754 ,Val: 1.4096, Test: 1.3972\n",
      "Epoch: 135, Loss: 2.3797, Train: 1.0746 ,Val: 1.4058, Test: 1.3935\n",
      "Epoch: 136, Loss: 2.3756, Train: 1.0738 ,Val: 1.4020, Test: 1.3898\n",
      "Epoch: 137, Loss: 2.3715, Train: 1.0730 ,Val: 1.3981, Test: 1.3860\n",
      "Epoch: 138, Loss: 2.3673, Train: 1.0722 ,Val: 1.3943, Test: 1.3822\n",
      "Epoch: 139, Loss: 2.3631, Train: 1.0716 ,Val: 1.3905, Test: 1.3785\n",
      "Epoch: 140, Loss: 2.3589, Train: 1.0711 ,Val: 1.3870, Test: 1.3750\n",
      "Epoch: 141, Loss: 2.3545, Train: 1.0705 ,Val: 1.3833, Test: 1.3713\n",
      "Epoch: 142, Loss: 2.3501, Train: 1.0698 ,Val: 1.3794, Test: 1.3675\n",
      "Epoch: 143, Loss: 2.3456, Train: 1.0689 ,Val: 1.3753, Test: 1.3635\n",
      "Epoch: 144, Loss: 2.3411, Train: 1.0680 ,Val: 1.3712, Test: 1.3594\n",
      "Epoch: 145, Loss: 2.3365, Train: 1.0674 ,Val: 1.3673, Test: 1.3556\n",
      "Epoch: 146, Loss: 2.3318, Train: 1.0666 ,Val: 1.3632, Test: 1.3516\n",
      "Epoch: 147, Loss: 2.3270, Train: 1.0657 ,Val: 1.3590, Test: 1.3474\n",
      "Epoch: 148, Loss: 2.3222, Train: 1.0649 ,Val: 1.3549, Test: 1.3433\n",
      "Epoch: 149, Loss: 2.3173, Train: 1.0640 ,Val: 1.3505, Test: 1.3390\n",
      "Epoch: 150, Loss: 2.3124, Train: 1.0634 ,Val: 1.3466, Test: 1.3351\n",
      "Epoch: 151, Loss: 2.3074, Train: 1.0626 ,Val: 1.3424, Test: 1.3309\n",
      "Epoch: 152, Loss: 2.3024, Train: 1.0614 ,Val: 1.3377, Test: 1.3264\n",
      "Epoch: 153, Loss: 2.2971, Train: 1.0610 ,Val: 1.3337, Test: 1.3224\n",
      "Epoch: 154, Loss: 2.2920, Train: 1.0595 ,Val: 1.3289, Test: 1.3177\n",
      "Epoch: 155, Loss: 2.2860, Train: 1.0503 ,Val: 1.3177, Test: 1.3065\n",
      "Epoch: 156, Loss: 2.2800, Train: 1.0538 ,Val: 1.3179, Test: 1.3067\n",
      "Epoch: 157, Loss: 2.2730, Train: 1.0614 ,Val: 1.3214, Test: 1.3100\n",
      "Epoch: 158, Loss: 2.2661, Train: 1.0498 ,Val: 1.2992, Test: 1.2885\n",
      "Epoch: 159, Loss: 2.2587, Train: 1.0634 ,Val: 1.3085, Test: 1.2976\n",
      "Epoch: 160, Loss: 2.2519, Train: 1.0430 ,Val: 1.2726, Test: 1.2626\n",
      "Epoch: 161, Loss: 2.2443, Train: 1.0596 ,Val: 1.2843, Test: 1.2741\n",
      "Epoch: 162, Loss: 2.2365, Train: 1.0490 ,Val: 1.2602, Test: 1.2506\n",
      "Epoch: 163, Loss: 2.2273, Train: 1.0562 ,Val: 1.2556, Test: 1.2461\n",
      "Epoch: 164, Loss: 2.2205, Train: 1.0200 ,Val: 1.2006, Test: 1.1926\n",
      "Epoch: 165, Loss: 2.2196, Train: 1.0958 ,Val: 1.2820, Test: 1.2721\n",
      "Epoch: 166, Loss: 2.2267, Train: 1.0499 ,Val: 1.2259, Test: 1.2170\n",
      "Epoch: 167, Loss: 2.1956, Train: 0.9992 ,Val: 1.1640, Test: 1.1564\n",
      "Epoch: 168, Loss: 2.2076, Train: 1.0388 ,Val: 1.2127, Test: 1.2036\n",
      "Epoch: 169, Loss: 2.1798, Train: 1.0675 ,Val: 1.2510, Test: 1.2406\n",
      "Epoch: 170, Loss: 2.1860, Train: 1.0557 ,Val: 1.2358, Test: 1.2254\n",
      "Epoch: 171, Loss: 2.1733, Train: 1.0199 ,Val: 1.1865, Test: 1.1771\n",
      "Epoch: 172, Loss: 2.1608, Train: 1.0025 ,Val: 1.1581, Test: 1.1493\n",
      "Epoch: 173, Loss: 2.1588, Train: 1.0293 ,Val: 1.1812, Test: 1.1718\n",
      "Epoch: 174, Loss: 2.1400, Train: 1.0563 ,Val: 1.2027, Test: 1.1931\n",
      "Epoch: 175, Loss: 2.1387, Train: 1.0352 ,Val: 1.1715, Test: 1.1623\n",
      "Epoch: 176, Loss: 2.1229, Train: 1.0019 ,Val: 1.1324, Test: 1.1237\n",
      "Epoch: 177, Loss: 2.1213, Train: 1.0267 ,Val: 1.1584, Test: 1.1490\n",
      "Epoch: 178, Loss: 2.1024, Train: 1.0450 ,Val: 1.1826, Test: 1.1726\n",
      "Epoch: 179, Loss: 2.0959, Train: 1.0247 ,Val: 1.1640, Test: 1.1538\n",
      "Epoch: 180, Loss: 2.0823, Train: 1.0031 ,Val: 1.1410, Test: 1.1309\n",
      "Epoch: 181, Loss: 2.0762, Train: 1.0135 ,Val: 1.1530, Test: 1.1424\n",
      "Epoch: 182, Loss: 2.0599, Train: 1.0310 ,Val: 1.1691, Test: 1.1581\n",
      "Epoch: 183, Loss: 2.0503, Train: 1.0101 ,Val: 1.1432, Test: 1.1323\n",
      "Epoch: 184, Loss: 2.0357, Train: 1.0036 ,Val: 1.1344, Test: 1.1232\n",
      "Epoch: 185, Loss: 2.0251, Train: 1.0126 ,Val: 1.1483, Test: 1.1367\n",
      "Epoch: 186, Loss: 2.0104, Train: 1.0092 ,Val: 1.1536, Test: 1.1418\n",
      "Epoch: 187, Loss: 1.9966, Train: 0.9980 ,Val: 1.1483, Test: 1.1364\n",
      "Epoch: 188, Loss: 1.9846, Train: 1.0002 ,Val: 1.1539, Test: 1.1419\n",
      "Epoch: 189, Loss: 1.9702, Train: 1.0050 ,Val: 1.1590, Test: 1.1469\n",
      "Epoch: 190, Loss: 1.9554, Train: 0.9954 ,Val: 1.1481, Test: 1.1362\n",
      "Epoch: 191, Loss: 1.9411, Train: 0.9901 ,Val: 1.1467, Test: 1.1349\n",
      "Epoch: 192, Loss: 1.9264, Train: 0.9905 ,Val: 1.1579, Test: 1.1457\n",
      "Epoch: 193, Loss: 1.9101, Train: 0.9807 ,Val: 1.1587, Test: 1.1462\n",
      "Epoch: 194, Loss: 1.8941, Train: 0.9823 ,Val: 1.1663, Test: 1.1538\n",
      "Epoch: 195, Loss: 1.8770, Train: 0.9762 ,Val: 1.1615, Test: 1.1493\n",
      "Epoch: 196, Loss: 1.8584, Train: 0.9722 ,Val: 1.1616, Test: 1.1495\n",
      "Epoch: 197, Loss: 1.8406, Train: 0.9728 ,Val: 1.1728, Test: 1.1606\n",
      "Epoch: 198, Loss: 1.8208, Train: 0.9532 ,Val: 1.1655, Test: 1.1534\n",
      "Epoch: 199, Loss: 1.8043, Train: 0.9923 ,Val: 1.2083, Test: 1.1953\n",
      "Epoch: 200, Loss: 1.7966, Train: 0.8955 ,Val: 1.1217, Test: 1.1102\n"
     ]
    }
   ],
   "source": [
    "optimizer = torch.optim.Adam(model.parameters(), lr=0.01)\n",
    "\n",
    "train_pred = defaultdict()\n",
    "test_pred = defaultdict()\n",
    "val_pred = defaultdict()\n",
    "\n",
    "train_rmse_list = []\n",
    "val_rmse_list = []\n",
    "test_rmse_list = []\n",
    "\n",
    "patience = 5 # Training will stop if val loss drops continously\n",
    "count_paitence = 0\n",
    "\n",
    "for epoch in range(0, 201):\n",
    "    loss = train()\n",
    "    \n",
    "    train_rmse, train_pred[epoch] = test(train_data)\n",
    "    \n",
    "    val_rmse, val_pred[epoch] = test(val_data)\n",
    "    \n",
    "    test_rmse, test_pred[epoch] = test(test_data)\n",
    "    \n",
    "    # Adding loss to list for charts\n",
    "    train_rmse_list.append(train_rmse)\n",
    "    val_rmse_list.append(val_rmse)\n",
    "    test_rmse_list.append(test_rmse)\n",
    "    \n",
    "    print(f'Epoch: {epoch:03d}, Loss: {loss:.4f}, Train: {train_rmse:.4f} ,Val: {val_rmse:.4f}, Test: {test_rmse:.4f}')\n",
    "    \n",
    "    # Early stopping\n",
    "    if epoch == 0:\n",
    "        previous_loss = val_rmse\n",
    "\n",
    "    early_stop_check = early_stopping(epoch, val_rmse, previous_loss, count_paitence)\n",
    "    if early_stop_check[0] =='stop':\n",
    "        break\n",
    "    else:\n",
    "        previous_loss = early_stop_check[0]\n",
    "        count_paitence = early_stop_check[1]"
   ]
  },
  {
   "cell_type": "code",
   "execution_count": 49,
   "id": "17ee1cc9",
   "metadata": {
    "pycharm": {
     "name": "#%%\n"
    }
   },
   "outputs": [
    {
     "data": {
      "image/png": "[encoded data removed]",
      "text/plain": [
       "<Figure size 576x432 with 1 Axes>"
      ]
     },
     "metadata": {
      "needs_background": "light"
     },
     "output_type": "display_data"
    }
   ],
   "source": [
    "'Plot Loss Curve'\n",
    "plot_curve = pd.DataFrame({\"Train_RMSE\": train_rmse_list,\n",
    "                           \"Val_RMSE\": val_rmse_list,\n",
    "                           \"Test_RMSE\": test_rmse_list})\n",
    "plot_curve = plot_curve.reset_index(drop=False)\n",
    "plot_curve = plot_curve.melt(id_vars =\"index\")\n",
    "plot_curve.rename(columns={\"index\":\"Epoch\", \"value\" : \"RMSE\", \"variable\" :\"Data Type\"}, \n",
    "                  inplace =True)\n",
    "plot_curve.head()\n",
    "\n",
    "fig = plt.figure(figsize=(8, 6))  # figure size with ratio 8:6\n",
    "sns.set(style='darkgrid', )\n",
    "sns.lineplot(x=\"Epoch\", y=\"RMSE\", hue=\"Data Type\", data=plot_curve)\n",
    "plt.ylim(0, 6)\n",
    "plt.title(\"Loss Curve\", fontsize=14)\n",
    "plt.show()\n",
    "fig.savefig(os.path.join(PATH_OUTPUT,\"Loss Curve.png\"))"
   ]
  },
  {
   "cell_type": "markdown",
   "id": "9c97ce06",
   "metadata": {
    "pycharm": {
     "name": "#%% md\n"
    }
   },
   "source": [
    "##### Sample Recommendation Example"
   ]
  },
  {
   "cell_type": "code",
   "execution_count": 50,
   "id": "cc116e89",
   "metadata": {
    "pycharm": {
     "name": "#%%\n"
    }
   },
   "outputs": [],
   "source": [
    "'User and book mapping'\n",
    "user_mapping = {idx: i for i, idx in enumerate(data_df_3_sample['reviewerID'].unique())}\n",
    "book_mapping = {idx: i for i, idx in enumerate(data_df_books.item_id_idx)}"
   ]
  },
  {
   "cell_type": "code",
   "execution_count": 51,
   "id": "439bc229",
   "metadata": {
    "pycharm": {
     "name": "#%%\n"
    }
   },
   "outputs": [],
   "source": [
    "USERID = int(10) # Sample the user id\n",
    "NUM_BOOKS = int(5) # Number of recommendations"
   ]
  },
  {
   "cell_type": "code",
   "execution_count": 52,
   "id": "b7dc8415",
   "metadata": {
    "pycharm": {
     "name": "#%%\n"
    }
   },
   "outputs": [
    {
     "name": "stdout",
     "output_type": "stream",
     "text": [
      "Recommended Books for User 10\n",
      "000617454X  Contemporary\n",
      "0001720392  Classics\n",
      "0006499627  Thriller & Suspense\n",
      "0006755232  Teen &amp; Young Adult\n",
      "0002241277  Thrillers & Suspense\n"
     ]
    }
   ],
   "source": [
    "num_books = len(data['books'].x)\n",
    "row = torch.tensor([USERID] * num_books)\n",
    "col = torch.arange(num_books)\n",
    "edge_label_index = torch.stack([row, col], dim=0)\n",
    "pred = model(data.x_dict, data.edge_index_dict, edge_label_index)\n",
    "pred = pred.clamp(min=0, max=5)\n",
    "idx_max = torch.topk(pred, NUM_BOOKS).indices\n",
    "print('Recommended Books for User ' + str(USERID))\n",
    "for i in idx_max:\n",
    "    bookId = book_mapping[int(i)]\n",
    "    print(data_df_books.loc[bookId].asin, data_df_books.loc[bookId].categoryLast)"
   ]
  },
  {
   "cell_type": "markdown",
   "id": "2adbb446",
   "metadata": {
    "pycharm": {
     "name": "#%% md\n"
    }
   },
   "source": [
    "### Evaluation Metrics"
   ]
  },
  {
   "cell_type": "markdown",
   "id": "d5af0c9a",
   "metadata": {
    "pycharm": {
     "name": "#%% md\n"
    }
   },
   "source": [
    "##### Recall@K and Precision@K"
   ]
  },
  {
   "cell_type": "code",
   "execution_count": 53,
   "id": "1f421587",
   "metadata": {
    "pycharm": {
     "name": "#%%\n"
    }
   },
   "outputs": [
    {
     "data": {
      "text/html": [
       "<div>\n",
       "<style scoped>\n",
       "    .dataframe tbody tr th:only-of-type {\n",
       "        vertical-align: middle;\n",
       "    }\n",
       "\n",
       "    .dataframe tbody tr th {\n",
       "        vertical-align: top;\n",
       "    }\n",
       "\n",
       "    .dataframe thead th {\n",
       "        text-align: right;\n",
       "    }\n",
       "</style>\n",
       "<table border=\"1\" class=\"dataframe\">\n",
       "  <thead>\n",
       "    <tr style=\"text-align: right;\">\n",
       "      <th></th>\n",
       "      <th>UserID</th>\n",
       "      <th>BookID</th>\n",
       "      <th>actual_rating</th>\n",
       "      <th>predicted_rating</th>\n",
       "    </tr>\n",
       "  </thead>\n",
       "  <tbody>\n",
       "    <tr>\n",
       "      <th>0</th>\n",
       "      <td>555</td>\n",
       "      <td>17592</td>\n",
       "      <td>5.0</td>\n",
       "      <td>5.0</td>\n",
       "    </tr>\n",
       "    <tr>\n",
       "      <th>1</th>\n",
       "      <td>961</td>\n",
       "      <td>19578</td>\n",
       "      <td>4.0</td>\n",
       "      <td>4.0</td>\n",
       "    </tr>\n",
       "    <tr>\n",
       "      <th>2</th>\n",
       "      <td>678</td>\n",
       "      <td>17331</td>\n",
       "      <td>5.0</td>\n",
       "      <td>4.0</td>\n",
       "    </tr>\n",
       "    <tr>\n",
       "      <th>3</th>\n",
       "      <td>456</td>\n",
       "      <td>2842</td>\n",
       "      <td>5.0</td>\n",
       "      <td>3.0</td>\n",
       "    </tr>\n",
       "    <tr>\n",
       "      <th>4</th>\n",
       "      <td>699</td>\n",
       "      <td>17942</td>\n",
       "      <td>5.0</td>\n",
       "      <td>4.0</td>\n",
       "    </tr>\n",
       "  </tbody>\n",
       "</table>\n",
       "</div>"
      ],
      "text/plain": [
       "   UserID  BookID  actual_rating  predicted_rating\n",
       "0     555   17592            5.0               5.0\n",
       "1     961   19578            4.0               4.0\n",
       "2     678   17331            5.0               4.0\n",
       "3     456    2842            5.0               3.0\n",
       "4     699   17942            5.0               4.0"
      ]
     },
     "execution_count": 53,
     "metadata": {},
     "output_type": "execute_result"
    }
   ],
   "source": [
    "'Recall and Precision'\n",
    "test_actual = np.vstack((test_data['user','books'].edge_label_index,test_data['user','books'].edge_label))\n",
    "test_predicted = pd.DataFrame(np.vstack((test_actual, test_pred[epoch])).T, \n",
    "                              columns = ['UserID','BookID','actual_rating','predicted_rating'])\n",
    "\n",
    "test_predicted['UserID'] = test_predicted['UserID'].apply(lambda x: int(x))\n",
    "test_predicted['BookID'] = test_predicted['BookID'].apply(lambda x: int(x))\n",
    "test_predicted['predicted_rating'] = test_predicted['predicted_rating'].apply(lambda x: round(x,0))\n",
    "test_predicted.to_pickle(os.path.join(PATH_OUTPUT,'test_predicted.pkl'))\n",
    "test_predicted.head()"
   ]
  },
  {
   "cell_type": "code",
   "execution_count": 54,
   "id": "8e3cc924",
   "metadata": {
    "pycharm": {
     "name": "#%%\n"
    }
   },
   "outputs": [],
   "source": [
    "'Convert to dictionary'\n",
    "user_pred_true = defaultdict(list)\n",
    "for i in range(0, len(test_predicted)):\n",
    "    actual_rating = test_predicted.loc[i,'actual_rating']\n",
    "    predicted_rating =   test_predicted.loc[i,'predicted_rating']\n",
    "    userId = test_predicted.loc[i,'UserID']\n",
    "    user_pred_true[userId].append((predicted_rating, actual_rating))"
   ]
  },
  {
   "cell_type": "code",
   "execution_count": 55,
   "id": "329b2005",
   "metadata": {
    "pycharm": {
     "is_executing": true,
     "name": "#%%\n"
    }
   },
   "outputs": [
    {
     "name": "stdout",
     "output_type": "stream",
     "text": [
      "    k  avg_precision\n",
      "0   1       0.734257\n",
      "1   2       0.727330\n",
      "2   3       0.725441\n",
      "3   4       0.724601\n",
      "4   5       0.725357\n",
      "5   6       0.725063\n",
      "6   7       0.724763\n",
      "7   8       0.724313\n",
      "8   9       0.724348\n",
      "9  10       0.724446\n",
      "--------------------\n",
      "    k  avg_recall\n",
      "0   1    0.427994\n",
      "1   2    0.565127\n",
      "2   3    0.616631\n",
      "3   4    0.639690\n",
      "4   5    0.655275\n",
      "5   6    0.663480\n",
      "6   7    0.669517\n",
      "7   8    0.673010\n",
      "8   9    0.675711\n",
      "9  10    0.677804\n"
     ]
    }
   ],
   "source": [
    "'Calculate Precision and Recall'\n",
    "# Reference: https://surprise.readthedocs.io/en/latest/FAQ.html#how-to-compute-precision-k-and-recall-k\n",
    "# Distinction between relevant and recommended is discussed in detail in model document\n",
    "threshold = 4\n",
    "precision = dict()\n",
    "recall = dict()\n",
    "avg_precision = dict()\n",
    "avg_recall = dict()\n",
    "for k in range(1,11):\n",
    "    for user_id, user_ratings in user_pred_true.items():\n",
    "\n",
    "        # sorted ratings\n",
    "        user_ratings.sort(key=lambda x: x[0], reverse=True)\n",
    "        # count of relevant items\n",
    "        count_relevant = sum((actual_rating >= threshold) for (predicted_rating, actual_rating) in user_ratings)\n",
    "        # count of recommended items in top k\n",
    "        count_recommended_k = sum((predicted_rating >= threshold) for (predicted_rating, actual_rating) in user_ratings[:k])\n",
    "        # count of relevant and recommended items in top k\n",
    "        count_relevant_and_recommended_k = sum(\n",
    "            ((actual_rating >= threshold) and (predicted_rating >= threshold))\n",
    "            for (predicted_rating, actual_rating) in user_ratings[:k]\n",
    "        )\n",
    "        # Precision@K and # Recall@K\n",
    "        precision[user_id] = count_relevant_and_recommended_k /count_recommended_k if count_recommended_k != 0 else 0\n",
    "        recall[user_id] = count_relevant_and_recommended_k /count_relevant if count_relevant != 0 else 0\n",
    "    \n",
    "    avg_precision[k] = sum(prec for prec in precision.values()) / len(precision)\n",
    "    avg_recall[k] = sum(rec for rec in recall.values()) / len(recall)\n",
    "\n",
    "avg_recall_df = pd.DataFrame(list(avg_recall.items()),columns = ['k','avg_recall']) \n",
    "avg_precision_df = pd.DataFrame(list(avg_precision.items()),columns = ['k','avg_precision']) \n",
    "\n",
    "avg_precision_df.to_pickle(os.path.join(PATH_OUTPUT,'avg_precision_df.pkl'))\n",
    "avg_recall_df.to_pickle(os.path.join(PATH_OUTPUT,'avg_recall_df.pkl'))\n",
    "\n",
    "print(avg_precision_df)\n",
    "print(\"--------------------\")\n",
    "print(avg_recall_df)"
   ]
  },
  {
   "cell_type": "code",
   "execution_count": 56,
   "id": "7e14b837",
   "metadata": {
    "pycharm": {
     "name": "#%%\n"
    }
   },
   "outputs": [
    {
     "data": {
      "image/png": "[encoded data removed]",
      "text/plain": [
       "<Figure size 576x432 with 1 Axes>"
      ]
     },
     "metadata": {},
     "output_type": "display_data"
    }
   ],
   "source": [
    "'Plot Recall Curve'\n",
    "fig = plt.figure(figsize=(8, 6))  # figure size with ratio 8:6\n",
    "sns.set(style='darkgrid', )\n",
    "sns.lineplot(x=\"k\", y=\"avg_recall\", data=avg_recall_df)\n",
    "plt.ylim(0, 1)\n",
    "plt.title(\"Average Recall@K Curve\", fontsize=14)\n",
    "plt.show()\n",
    "fig.savefig(os.path.join(PATH_OUTPUT,\"Average Recall@K Curve.png\"))"
   ]
  },
  {
   "cell_type": "code",
   "execution_count": 57,
   "id": "fc78ac84",
   "metadata": {
    "pycharm": {
     "name": "#%%\n"
    }
   },
   "outputs": [
    {
     "data": {
      "image/png": "[encoded data removed]",
      "text/plain": [
       "<Figure size 576x432 with 1 Axes>"
      ]
     },
     "metadata": {},
     "output_type": "display_data"
    }
   ],
   "source": [
    "'Plot Precision Curve'\n",
    "fig = plt.figure(figsize=(8, 6))  # figure size with ratio 8:6\n",
    "sns.set(style='darkgrid', )\n",
    "sns.lineplot(x=\"k\", y=\"avg_precision\", data=avg_precision_df)\n",
    "plt.ylim(0, 1)\n",
    "plt.title(\"Average Precision@K Curve\", fontsize=14)\n",
    "plt.show()\n",
    "fig.savefig(os.path.join(PATH_OUTPUT,\"Average Precision@K Curve.png\"))"
   ]
  },
  {
   "cell_type": "markdown",
   "id": "d1d84783",
   "metadata": {
    "pycharm": {
     "name": "#%% md\n"
    }
   },
   "source": [
    "##### Coverage & Personalization Scores\n"
   ]
  },
  {
   "cell_type": "code",
   "execution_count": 58,
   "id": "5b15c7dc",
   "metadata": {
    "pycharm": {
     "name": "#%%\n"
    }
   },
   "outputs": [],
   "source": [
    "# Source : recmetric library\n",
    "def get_users_predictions(user_id, n, model):\n",
    "    recommended_items = pd.DataFrame(model.loc[user_id])\n",
    "    recommended_items.columns = [\"predicted_rating\"]\n",
    "    recommended_items = recommended_items.sort_values('predicted_rating', ascending=False)    \n",
    "    recommended_items = recommended_items.head(n)\n",
    "    return recommended_items.index.tolist()"
   ]
  },
  {
   "cell_type": "code",
   "execution_count": 59,
   "id": "712528ff",
   "metadata": {
    "pycharm": {
     "name": "#%%\n"
    }
   },
   "outputs": [
    {
     "data": {
      "text/html": [
       "<div>\n",
       "<style scoped>\n",
       "    .dataframe tbody tr th:only-of-type {\n",
       "        vertical-align: middle;\n",
       "    }\n",
       "\n",
       "    .dataframe tbody tr th {\n",
       "        vertical-align: top;\n",
       "    }\n",
       "\n",
       "    .dataframe thead th {\n",
       "        text-align: right;\n",
       "    }\n",
       "</style>\n",
       "<table border=\"1\" class=\"dataframe\">\n",
       "  <thead>\n",
       "    <tr style=\"text-align: right;\">\n",
       "      <th></th>\n",
       "      <th>actual_rating</th>\n",
       "      <th>graph_predictions</th>\n",
       "      <th>pop_predictions</th>\n",
       "      <th>random_predictions</th>\n",
       "    </tr>\n",
       "    <tr>\n",
       "      <th>UserID</th>\n",
       "      <th></th>\n",
       "      <th></th>\n",
       "      <th></th>\n",
       "      <th></th>\n",
       "    </tr>\n",
       "  </thead>\n",
       "  <tbody>\n",
       "    <tr>\n",
       "      <th>0</th>\n",
       "      <td>[5365, 1894]</td>\n",
       "      <td>[5365, 1894, 0, 13965, 13922, 13923, 13942, 13...</td>\n",
       "      <td>[20333, 3141, 2071, 3136, 9282, 3125, 11974, 1...</td>\n",
       "      <td>[8143, 880, 5911, 847, 5266, 5174, 5670, 10008...</td>\n",
       "    </tr>\n",
       "    <tr>\n",
       "      <th>1</th>\n",
       "      <td>[8148]</td>\n",
       "      <td>[8148, 0, 13965, 13922, 13923, 13942, 13945, 1...</td>\n",
       "      <td>[20333, 3141, 2071, 3136, 9282, 3125, 11974, 1...</td>\n",
       "      <td>[20208, 1291, 14874, 9084, 9332, 8570, 15263, ...</td>\n",
       "    </tr>\n",
       "    <tr>\n",
       "      <th>2</th>\n",
       "      <td>[5664, 10566, 2445, 12175, 16368, 180, 20348]</td>\n",
       "      <td>[10566, 5664, 12175, 20348, 2445, 180, 16368, ...</td>\n",
       "      <td>[20333, 3141, 2071, 3136, 9282, 3125, 11974, 1...</td>\n",
       "      <td>[6115, 3543, 8568, 9241, 12019, 81, 11899, 181...</td>\n",
       "    </tr>\n",
       "    <tr>\n",
       "      <th>3</th>\n",
       "      <td>[20578, 10755, 1187, 134, 16368]</td>\n",
       "      <td>[1187, 20578, 10755, 16368, 134, 13966, 13923,...</td>\n",
       "      <td>[20333, 3141, 2071, 3136, 9282, 3125, 11974, 1...</td>\n",
       "      <td>[17955, 15826, 1509, 13621, 4673, 16472, 19668...</td>\n",
       "    </tr>\n",
       "    <tr>\n",
       "      <th>4</th>\n",
       "      <td>[7843, 2179, 8005, 4855]</td>\n",
       "      <td>[8005, 7843, 4855, 2179, 13966, 13923, 13942, ...</td>\n",
       "      <td>[20333, 3141, 2071, 3136, 9282, 3125, 11974, 1...</td>\n",
       "      <td>[4992, 14180, 15069, 10415, 19557, 14365, 8394...</td>\n",
       "    </tr>\n",
       "  </tbody>\n",
       "</table>\n",
       "</div>"
      ],
      "text/plain": [
       "                                        actual_rating  \\\n",
       "UserID                                                  \n",
       "0                                        [5365, 1894]   \n",
       "1                                              [8148]   \n",
       "2       [5664, 10566, 2445, 12175, 16368, 180, 20348]   \n",
       "3                    [20578, 10755, 1187, 134, 16368]   \n",
       "4                            [7843, 2179, 8005, 4855]   \n",
       "\n",
       "                                        graph_predictions  \\\n",
       "UserID                                                      \n",
       "0       [5365, 1894, 0, 13965, 13922, 13923, 13942, 13...   \n",
       "1       [8148, 0, 13965, 13922, 13923, 13942, 13945, 1...   \n",
       "2       [10566, 5664, 12175, 20348, 2445, 180, 16368, ...   \n",
       "3       [1187, 20578, 10755, 16368, 134, 13966, 13923,...   \n",
       "4       [8005, 7843, 4855, 2179, 13966, 13923, 13942, ...   \n",
       "\n",
       "                                          pop_predictions  \\\n",
       "UserID                                                      \n",
       "0       [20333, 3141, 2071, 3136, 9282, 3125, 11974, 1...   \n",
       "1       [20333, 3141, 2071, 3136, 9282, 3125, 11974, 1...   \n",
       "2       [20333, 3141, 2071, 3136, 9282, 3125, 11974, 1...   \n",
       "3       [20333, 3141, 2071, 3136, 9282, 3125, 11974, 1...   \n",
       "4       [20333, 3141, 2071, 3136, 9282, 3125, 11974, 1...   \n",
       "\n",
       "                                       random_predictions  \n",
       "UserID                                                     \n",
       "0       [8143, 880, 5911, 847, 5266, 5174, 5670, 10008...  \n",
       "1       [20208, 1291, 14874, 9084, 9332, 8570, 15263, ...  \n",
       "2       [6115, 3543, 8568, 9241, 12019, 81, 11899, 181...  \n",
       "3       [17955, 15826, 1509, 13621, 4673, 16472, 19668...  \n",
       "4       [4992, 14180, 15069, 10415, 19557, 14365, 8394...  "
      ]
     },
     "execution_count": 59,
     "metadata": {},
     "output_type": "execute_result"
    }
   ],
   "source": [
    "## Suggesting 10 books from the graph model\n",
    "graph_model = test_predicted.pivot_table(index='UserID', columns='BookID', values='predicted_rating').fillna(0)\n",
    "test_predicted_id = test_predicted.copy().groupby('UserID', as_index=False)['BookID'].agg({'actual_rating':\n",
    "                                                                                        (lambda x: list(set(x)))})\n",
    "test_predicted_id = test_predicted_id.set_index(\"UserID\")\n",
    "\n",
    "graph_model_recs = [] = []\n",
    "for user in test_predicted_id.index:\n",
    "    graph_predictions = get_users_predictions(user, 10, graph_model)\n",
    "    graph_model_recs.append(graph_predictions)\n",
    "        \n",
    "test_predicted_id['graph_predictions'] = graph_model_recs\n",
    "\n",
    "## Suggesting the most bought books as recommendation\n",
    "popular_recomm = data_df_3_sample.item_id_idx.value_counts().head(10).index.tolist()\n",
    "\n",
    "pop_recomm = []\n",
    "for user in test_predicted_id.index:\n",
    "    pop_recomm.append(popular_recomm)\n",
    "        \n",
    "test_predicted_id['pop_predictions'] = pop_recomm\n",
    "test_predicted_id.head()\n",
    "\n",
    "## Suggesting 10 random books as recommendation\n",
    "ran_recomm = []\n",
    "for user in test_predicted_id.index:\n",
    "    ran_recomm.append(data_df_3_sample.item_id_idx.sample(10).values.tolist())\n",
    "        \n",
    "test_predicted_id['random_predictions'] = ran_recomm\n",
    "\n",
    "test_predicted_id.head()"
   ]
  },
  {
   "cell_type": "code",
   "execution_count": 60,
   "id": "e64cdb19",
   "metadata": {
    "pycharm": {
     "name": "#%%\n"
    }
   },
   "outputs": [],
   "source": [
    "catalog = data_df_3_sample.item_id_idx.unique().tolist()\n",
    "random_cat_coverage = recmetrics.prediction_coverage(ran_recomm, catalog)\n",
    "pop_cat_coverage = recmetrics.prediction_coverage(pop_recomm, catalog)\n",
    "graph_cat_coverage = recmetrics.prediction_coverage(graph_model_recs, catalog)"
   ]
  },
  {
   "cell_type": "code",
   "execution_count": 61,
   "id": "9a6ef489",
   "metadata": {
    "pycharm": {
     "name": "#%%\n"
    }
   },
   "outputs": [
    {
     "data": {
      "image/png": "[encoded data removed]",
      "text/plain": [
       "<Figure size 648x360 with 1 Axes>"
      ]
     },
     "metadata": {},
     "output_type": "display_data"
    }
   ],
   "source": [
    "# plot of prediction coverage\n",
    "coverage_scores = [random_cat_coverage, pop_cat_coverage, graph_cat_coverage]\n",
    "model_names = ['Random Recommender', 'Popularity Recommender', 'Link Prediction']\n",
    "\n",
    "fig = plt.figure(figsize=(9, 5))\n",
    "recmetrics.coverage_plot(coverage_scores, model_names)\n",
    "fig.savefig(os.path.join(PATH_OUTPUT,\"Catalog Coverage.png\"))"
   ]
  },
  {
   "cell_type": "code",
   "execution_count": 62,
   "id": "23e2f30c",
   "metadata": {
    "pycharm": {
     "name": "#%%\n"
    }
   },
   "outputs": [
    {
     "name": "stdout",
     "output_type": "stream",
     "text": [
      "Personalization Score 0.49691920170509585\n"
     ]
    }
   ],
   "source": [
    "# Personalization Score\n",
    "personalization = recmetrics.personalization(test_predicted_id.graph_predictions.to_list())\n",
    "print('Personalization Score', personalization)"
   ]
  },
  {
   "cell_type": "code",
   "execution_count": 63,
   "id": "5aae8749",
   "metadata": {
    "pycharm": {
     "name": "#%%\n"
    }
   },
   "outputs": [
    {
     "name": "stdout",
     "output_type": "stream",
     "text": [
      "Prediction Coverage 10.51\n"
     ]
    }
   ],
   "source": [
    "# Prediction Coverage\n",
    "prediction_coverage = recmetrics.prediction_coverage(test_predicted_id.graph_predictions.to_list(), catalog)\n",
    "print('Prediction Coverage', prediction_coverage)"
   ]
  },
  {
   "cell_type": "code",
   "execution_count": 64,
   "id": "c1806118",
   "metadata": {
    "pycharm": {
     "name": "#%%\n"
    }
   },
   "outputs": [],
   "source": [
    "# Save everything\n",
    "torch.save(data, os.path.join(PATH_OUTPUT, 'data'))\n",
    "torch.save(model.state_dict(), os.path.join(PATH_OUTPUT, 'link_prediction.pt'))\n",
    "data_df_3_sample.to_pickle(os.path.join(PATH_OUTPUT, 'data_sample.pkl'))\n",
    "data_df_books.to_pickle(os.path.join(PATH_OUTPUT,'data_books.pkl'))\n",
    "test_predicted_id.to_pickle(os.path.join(PATH_OUTPUT,'test_predicted_user_id.pkl'))"
   ]
  }
 ],
 "metadata": {
  "kernelspec": {
   "display_name": "abhipy",
   "language": "python",
   "name": "abhipy"
  },
  "language_info": {
   "codemirror_mode": {
    "name": "ipython",
    "version": 3
   },
   "file_extension": ".py",
   "mimetype": "text/x-python",
   "name": "python",
   "nbconvert_exporter": "python",
   "pygments_lexer": "ipython3",
   "version": "3.9.7"
  }
 },
 "nbformat": 4,
 "nbformat_minor": 5
}